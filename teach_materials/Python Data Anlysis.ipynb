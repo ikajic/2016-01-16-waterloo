{
 "cells": [
  {
   "cell_type": "code",
   "execution_count": 1,
   "metadata": {
    "collapsed": false
   },
   "outputs": [
    {
     "name": "stdout",
     "output_type": "stream",
     "text": [
      "Hello\n"
     ]
    }
   ],
   "source": [
    "print('Hello')"
   ]
  },
  {
   "cell_type": "markdown",
   "metadata": {},
   "source": [
    "### Analysing data with Python"
   ]
  },
  {
   "cell_type": "code",
   "execution_count": 2,
   "metadata": {
    "collapsed": false
   },
   "outputs": [
    {
     "name": "stdout",
     "output_type": "stream",
     "text": [
      "inflammation-01.csv  inflammation-07.csv  Python Data Anlysis.ipynb\r\n",
      "inflammation-02.csv  inflammation-08.csv  small-01.csv\r\n",
      "inflammation-03.csv  inflammation-09.csv  small-02.csv\r\n",
      "inflammation-04.csv  inflammation-10.csv  small-03.csv\r\n",
      "inflammation-05.csv  inflammation-11.csv\r\n",
      "inflammation-06.csv  inflammation-12.csv\r\n"
     ]
    }
   ],
   "source": [
    "ls"
   ]
  },
  {
   "cell_type": "code",
   "execution_count": 3,
   "metadata": {
    "collapsed": false
   },
   "outputs": [
    {
     "data": {
      "text/plain": [
       "'/home/ivana/Desktop/data'"
      ]
     },
     "execution_count": 3,
     "metadata": {},
     "output_type": "execute_result"
    }
   ],
   "source": [
    "pwd"
   ]
  },
  {
   "cell_type": "code",
   "execution_count": 4,
   "metadata": {
    "collapsed": true
   },
   "outputs": [],
   "source": [
    "import numpy"
   ]
  },
  {
   "cell_type": "code",
   "execution_count": 5,
   "metadata": {
    "collapsed": false
   },
   "outputs": [
    {
     "data": {
      "text/plain": [
       "array([[ 0.,  0.,  1., ...,  3.,  0.,  0.],\n",
       "       [ 0.,  1.,  2., ...,  1.,  0.,  1.],\n",
       "       [ 0.,  1.,  1., ...,  2.,  1.,  1.],\n",
       "       ..., \n",
       "       [ 0.,  1.,  1., ...,  1.,  1.,  1.],\n",
       "       [ 0.,  0.,  0., ...,  0.,  2.,  0.],\n",
       "       [ 0.,  0.,  1., ...,  1.,  1.,  0.]])"
      ]
     },
     "execution_count": 5,
     "metadata": {},
     "output_type": "execute_result"
    }
   ],
   "source": [
    "numpy.loadtxt(fname='inflammation-01.csv', delimiter=',')"
   ]
  },
  {
   "cell_type": "code",
   "execution_count": 12,
   "metadata": {
    "collapsed": true
   },
   "outputs": [],
   "source": [
    "weight_kg = 55"
   ]
  },
  {
   "cell_type": "code",
   "execution_count": 13,
   "metadata": {
    "collapsed": false
   },
   "outputs": [
    {
     "name": "stdout",
     "output_type": "stream",
     "text": [
      "Weight in kg: 55\n"
     ]
    }
   ],
   "source": [
    "print('Weight in kg:', weight_kg)"
   ]
  },
  {
   "cell_type": "code",
   "execution_count": 14,
   "metadata": {
    "collapsed": false
   },
   "outputs": [
    {
     "name": "stdout",
     "output_type": "stream",
     "text": [
      "Weight in pounds: 121.00000000000001\n"
     ]
    }
   ],
   "source": [
    "print('Weight in pounds:', weight_kg*2.2)"
   ]
  },
  {
   "cell_type": "code",
   "execution_count": 17,
   "metadata": {
    "collapsed": false
   },
   "outputs": [
    {
     "name": "stdout",
     "output_type": "stream",
     "text": [
      "Weight in pounds: 220.00000000000003\n"
     ]
    }
   ],
   "source": [
    "weight_lb = weight_kg*2.2\n",
    "print('Weight in pounds:', weight_lb)"
   ]
  },
  {
   "cell_type": "code",
   "execution_count": 16,
   "metadata": {
    "collapsed": false
   },
   "outputs": [
    {
     "name": "stdout",
     "output_type": "stream",
     "text": [
      "121.00000000000001\n"
     ]
    }
   ],
   "source": [
    "weight_kg = 100\n",
    "print(weight_lb)   "
   ]
  },
  {
   "cell_type": "code",
   "execution_count": 18,
   "metadata": {
    "collapsed": false
   },
   "outputs": [
    {
     "name": "stdout",
     "output_type": "stream",
     "text": [
      "Variable    Type      Data/Info\n",
      "-------------------------------\n",
      "numpy       module    <module 'numpy' from '/ho<...>kages/numpy/__init__.py'>\n",
      "weight_kg   int       100\n",
      "weight_lb   float     220.00000000000003\n"
     ]
    }
   ],
   "source": [
    "whos"
   ]
  },
  {
   "cell_type": "code",
   "execution_count": 19,
   "metadata": {
    "collapsed": true
   },
   "outputs": [],
   "source": [
    "data = numpy.loadtxt(fname='inflammation-01.csv', delimiter=',')"
   ]
  },
  {
   "cell_type": "code",
   "execution_count": 20,
   "metadata": {
    "collapsed": false
   },
   "outputs": [
    {
     "name": "stdout",
     "output_type": "stream",
     "text": [
      "[[ 0.  0.  1. ...,  3.  0.  0.]\n",
      " [ 0.  1.  2. ...,  1.  0.  1.]\n",
      " [ 0.  1.  1. ...,  2.  1.  1.]\n",
      " ..., \n",
      " [ 0.  1.  1. ...,  1.  1.  1.]\n",
      " [ 0.  0.  0. ...,  0.  2.  0.]\n",
      " [ 0.  0.  1. ...,  1.  1.  0.]]\n"
     ]
    }
   ],
   "source": [
    "print(data)"
   ]
  },
  {
   "cell_type": "code",
   "execution_count": 21,
   "metadata": {
    "collapsed": false
   },
   "outputs": [
    {
     "name": "stdout",
     "output_type": "stream",
     "text": [
      "<class 'numpy.ndarray'>\n"
     ]
    }
   ],
   "source": [
    "print(type(data))"
   ]
  },
  {
   "cell_type": "code",
   "execution_count": 22,
   "metadata": {
    "collapsed": false
   },
   "outputs": [
    {
     "name": "stdout",
     "output_type": "stream",
     "text": [
      "(60, 40)\n"
     ]
    }
   ],
   "source": [
    "print(data.shape)"
   ]
  },
  {
   "cell_type": "code",
   "execution_count": 23,
   "metadata": {
    "collapsed": false
   },
   "outputs": [
    {
     "name": "stdout",
     "output_type": "stream",
     "text": [
      "0.0\n"
     ]
    }
   ],
   "source": [
    "print(data[0,0])"
   ]
  },
  {
   "cell_type": "code",
   "execution_count": 24,
   "metadata": {
    "collapsed": false
   },
   "outputs": [
    {
     "name": "stdout",
     "output_type": "stream",
     "text": [
      "13.0\n"
     ]
    }
   ],
   "source": [
    "print(data[30, 20])"
   ]
  },
  {
   "cell_type": "code",
   "execution_count": 25,
   "metadata": {
    "collapsed": false
   },
   "outputs": [
    {
     "name": "stdout",
     "output_type": "stream",
     "text": [
      "[  0.   0.   1.   3.   1.   2.   4.   7.   8.   3.   3.   3.  10.   5.   7.\n",
      "   4.   7.   7.  12.  18.   6.  13.  11.  11.   7.   7.   4.   6.   8.   8.\n",
      "   4.   4.   5.   7.   3.   4.   2.   3.   0.   0.]\n"
     ]
    }
   ],
   "source": [
    "print(data[0, :])"
   ]
  },
  {
   "cell_type": "code",
   "execution_count": 26,
   "metadata": {
    "collapsed": false
   },
   "outputs": [
    {
     "name": "stdout",
     "output_type": "stream",
     "text": [
      "[ 0.  0.  1.  3.  1.]\n"
     ]
    }
   ],
   "source": [
    "print(data[0, 0:5])"
   ]
  },
  {
   "cell_type": "code",
   "execution_count": 27,
   "metadata": {
    "collapsed": false
   },
   "outputs": [
    {
     "name": "stdout",
     "output_type": "stream",
     "text": [
      "[ 0.  0.  1.  3.  1.]\n"
     ]
    }
   ],
   "source": [
    "print(data[0, :5])"
   ]
  },
  {
   "cell_type": "code",
   "execution_count": 28,
   "metadata": {
    "collapsed": true
   },
   "outputs": [],
   "source": [
    "small = data[:3, 36:]"
   ]
  },
  {
   "cell_type": "code",
   "execution_count": 29,
   "metadata": {
    "collapsed": false
   },
   "outputs": [
    {
     "name": "stdout",
     "output_type": "stream",
     "text": [
      "[[ 2.  3.  0.  0.]\n",
      " [ 1.  1.  0.  1.]\n",
      " [ 2.  2.  1.  1.]]\n"
     ]
    }
   ],
   "source": [
    "print(small)"
   ]
  },
  {
   "cell_type": "code",
   "execution_count": 30,
   "metadata": {
    "collapsed": false
   },
   "outputs": [
    {
     "name": "stdout",
     "output_type": "stream",
     "text": [
      "[[ 4.  6.  0.  0.]\n",
      " [ 2.  2.  0.  2.]\n",
      " [ 4.  4.  2.  2.]]\n"
     ]
    }
   ],
   "source": [
    "doublesmall = small*2\n",
    "print(doublesmall)"
   ]
  },
  {
   "cell_type": "code",
   "execution_count": 31,
   "metadata": {
    "collapsed": false
   },
   "outputs": [
    {
     "name": "stdout",
     "output_type": "stream",
     "text": [
      "[[ 6.  9.  0.  0.]\n",
      " [ 3.  3.  0.  3.]\n",
      " [ 6.  6.  3.  3.]]\n"
     ]
    }
   ],
   "source": [
    "triplesmall = doublesmall+small\n",
    "print(triplesmall)"
   ]
  },
  {
   "cell_type": "code",
   "execution_count": 32,
   "metadata": {
    "collapsed": false
   },
   "outputs": [
    {
     "name": "stdout",
     "output_type": "stream",
     "text": [
      "6.14875\n"
     ]
    }
   ],
   "source": [
    "print(data.mean())"
   ]
  },
  {
   "cell_type": "code",
   "execution_count": 33,
   "metadata": {
    "collapsed": false
   },
   "outputs": [
    {
     "name": "stdout",
     "output_type": "stream",
     "text": [
      "Minimum of the data: 0.0\n",
      "Maximum of the data: 20.0\n"
     ]
    }
   ],
   "source": [
    "print('Minimum of the data:', data.min())\n",
    "print('Maximum of the data:', data.max())"
   ]
  },
  {
   "cell_type": "code",
   "execution_count": 34,
   "metadata": {
    "collapsed": false
   },
   "outputs": [
    {
     "name": "stdout",
     "output_type": "stream",
     "text": [
      "Average inflammation for patient 1: 5.45\n"
     ]
    }
   ],
   "source": [
    "print('Average inflammation for patient 1:', data[0, :].mean())"
   ]
  },
  {
   "cell_type": "code",
   "execution_count": 35,
   "metadata": {
    "collapsed": false
   },
   "outputs": [
    {
     "name": "stdout",
     "output_type": "stream",
     "text": [
      "Average inflammation for all patients: [ 5.45   5.425  6.1    5.9    5.55   6.225  5.975  6.65   6.625  6.525\n",
      "  6.775  5.8    6.225  5.75   5.225  6.3    6.55   5.7    5.85   6.55\n",
      "  5.775  5.825  6.175  6.1    5.8    6.425  6.05   6.025  6.175  6.55\n",
      "  6.175  6.35   6.725  6.125  7.075  5.725  5.925  6.15   6.075  5.75\n",
      "  5.975  5.725  6.3    5.9    6.75   5.925  7.225  6.15   5.95   6.275  5.7\n",
      "  6.1    6.825  5.975  6.725  5.7    6.25   6.4    7.05   5.9  ]\n"
     ]
    }
   ],
   "source": [
    "print('Average inflammation for all patients:', data.mean(axis=1))"
   ]
  },
  {
   "cell_type": "code",
   "execution_count": 38,
   "metadata": {
    "collapsed": false
   },
   "outputs": [
    {
     "name": "stdout",
     "output_type": "stream",
     "text": [
      "(60,)\n"
     ]
    }
   ],
   "source": [
    "avg_inflammation = data.mean(axis=1)\n",
    "print(avg_inflammation.shape)"
   ]
  },
  {
   "cell_type": "code",
   "execution_count": 42,
   "metadata": {
    "collapsed": true
   },
   "outputs": [],
   "source": [
    "import matplotlib.pyplot\n",
    "%matplotlib inline"
   ]
  },
  {
   "cell_type": "code",
   "execution_count": 43,
   "metadata": {
    "collapsed": false
   },
   "outputs": [
    {
     "data": {
      "image/png": "[encoded data removed]",
      "text/plain": [
       "<matplotlib.figure.Figure at 0x7f4ef48cd550>"
      ]
     },
     "metadata": {},
     "output_type": "display_data"
    }
   ],
   "source": [
    "image = matplotlib.pyplot.imshow(data)"
   ]
  },
  {
   "cell_type": "code",
   "execution_count": 41,
   "metadata": {
    "collapsed": true
   },
   "outputs": [],
   "source": [
    "matplotlib.pyplot.show(image)"
   ]
  },
  {
   "cell_type": "code",
   "execution_count": 44,
   "metadata": {
    "collapsed": true
   },
   "outputs": [],
   "source": [
    "avg_inflammation = data.mean(axis=0)\n",
    "max_inflammation = data.max(axis=0)\n",
    "min_inflammation = data.min(axis=0)"
   ]
  },
  {
   "cell_type": "code",
   "execution_count": 45,
   "metadata": {
    "collapsed": false
   },
   "outputs": [
    {
     "data": {
      "image/png": "[encoded data removed]",
      "text/plain": [
       "<matplotlib.figure.Figure at 0x7f4ec60b6438>"
      ]
     },
     "metadata": {},
     "output_type": "display_data"
    }
   ],
   "source": [
    "avg_plot = matplotlib.pyplot.plot(avg_inflammation)"
   ]
  },
  {
   "cell_type": "code",
   "execution_count": 46,
   "metadata": {
    "collapsed": false
   },
   "outputs": [
    {
     "data": {
      "text/plain": [
       "[<matplotlib.lines.Line2D at 0x7f4ec5fb8e80>]"
      ]
     },
     "execution_count": 46,
     "metadata": {},
     "output_type": "execute_result"
    },
    {
     "data": {
      "image/png": "[encoded data removed]",
      "text/plain": [
       "<matplotlib.figure.Figure at 0x7f4ec5ff6400>"
      ]
     },
     "metadata": {},
     "output_type": "display_data"
    }
   ],
   "source": [
    "matplotlib.pyplot.plot(max_inflammation)"
   ]
  },
  {
   "cell_type": "code",
   "execution_count": 47,
   "metadata": {
    "collapsed": false
   },
   "outputs": [
    {
     "data": {
      "text/plain": [
       "[<matplotlib.lines.Line2D at 0x7f4ec5f1d668>]"
      ]
     },
     "execution_count": 47,
     "metadata": {},
     "output_type": "execute_result"
    },
    {
     "data": {
      "image/png": "[encoded data removed]",
      "text/plain": [
       "<matplotlib.figure.Figure at 0x7f4ec6075b38>"
      ]
     },
     "metadata": {},
     "output_type": "display_data"
    }
   ],
   "source": [
    "matplotlib.pyplot.plot(min_inflammation)"
   ]
  },
  {
   "cell_type": "code",
   "execution_count": 55,
   "metadata": {
    "collapsed": false
   },
   "outputs": [
    {
     "data": {
      "image/png": "[encoded data removed]",
      "text/plain": [
       "<matplotlib.figure.Figure at 0x7f4ebfc3cfd0>"
      ]
     },
     "metadata": {},
     "output_type": "display_data"
    }
   ],
   "source": [
    "import numpy\n",
    "import matplotlib.pyplot\n",
    "\n",
    "data = numpy.loadtxt(fname='inflammation-01.csv', delimiter=',')\n",
    "fig = matplotlib.pyplot.figure(figsize=(10.0, 3.0))\n",
    "\n",
    "axis1 = fig.add_subplot(1, 3, 1)\n",
    "axis2 = fig.add_subplot(1, 3, 2)\n",
    "axis3 = fig.add_subplot(1, 3, 3)\n",
    "\n",
    "axis1.plot(data.mean(axis=0))\n",
    "axis1.set_ylabel('Average')\n",
    "\n",
    "axis2.plot(data.max(axis=0))\n",
    "axis2.set_ylabel('Maximum')\n",
    "axis2.set_xlabel('Day')\n",
    "\n",
    "axis3.plot(data.min(axis=0))\n",
    "axis3.set_ylabel('Minimum')\n",
    "\n",
    "fig.tight_layout()"
   ]
  },
  {
   "cell_type": "markdown",
   "metadata": {},
   "source": [
    "### Loops and lists"
   ]
  },
  {
   "cell_type": "code",
   "execution_count": 56,
   "metadata": {
    "collapsed": false
   },
   "outputs": [
    {
     "name": "stdout",
     "output_type": "stream",
     "text": [
      "inflammation-01.csv  inflammation-07.csv  Python Data Anlysis.ipynb\r\n",
      "inflammation-02.csv  inflammation-08.csv  small-01.csv\r\n",
      "inflammation-03.csv  inflammation-09.csv  small-02.csv\r\n",
      "inflammation-04.csv  inflammation-10.csv  small-03.csv\r\n",
      "inflammation-05.csv  inflammation-11.csv\r\n",
      "inflammation-06.csv  inflammation-12.csv\r\n"
     ]
    }
   ],
   "source": [
    "ls"
   ]
  },
  {
   "cell_type": "code",
   "execution_count": 57,
   "metadata": {
    "collapsed": false
   },
   "outputs": [
    {
     "name": "stdout",
     "output_type": "stream",
     "text": [
      "lead\n"
     ]
    }
   ],
   "source": [
    "word = 'lead'\n",
    "print(word)"
   ]
  },
  {
   "cell_type": "code",
   "execution_count": 58,
   "metadata": {
    "collapsed": false
   },
   "outputs": [
    {
     "name": "stdout",
     "output_type": "stream",
     "text": [
      "l\n",
      "e\n",
      "a\n",
      "d\n"
     ]
    }
   ],
   "source": [
    "print(word[0])\n",
    "print(word[1])\n",
    "print(word[2])\n",
    "print(word[3])"
   ]
  },
  {
   "cell_type": "code",
   "execution_count": 59,
   "metadata": {
    "collapsed": false
   },
   "outputs": [
    {
     "name": "stdout",
     "output_type": "stream",
     "text": [
      "P\n",
      "o\n",
      "p\n",
      "o\n"
     ]
    }
   ],
   "source": [
    "word = 'Popocatepetl'\n",
    "print(word[0])\n",
    "print(word[1])\n",
    "print(word[2])\n",
    "print(word[3])"
   ]
  },
  {
   "cell_type": "code",
   "execution_count": 60,
   "metadata": {
    "collapsed": false
   },
   "outputs": [
    {
     "name": "stdout",
     "output_type": "stream",
     "text": [
      "t\n",
      "i\n",
      "n\n"
     ]
    },
    {
     "ename": "IndexError",
     "evalue": "string index out of range",
     "output_type": "error",
     "traceback": [
      "\u001b[1;31m---------------------------------------------------------------------------\u001b[0m",
      "\u001b[1;31mIndexError\u001b[0m                                Traceback (most recent call last)",
      "\u001b[1;32m<ipython-input-60-a51226538da7>\u001b[0m in \u001b[0;36m<module>\u001b[1;34m()\u001b[0m\n\u001b[0;32m      3\u001b[0m \u001b[0mprint\u001b[0m\u001b[1;33m(\u001b[0m\u001b[0mword\u001b[0m\u001b[1;33m[\u001b[0m\u001b[1;36m1\u001b[0m\u001b[1;33m]\u001b[0m\u001b[1;33m)\u001b[0m\u001b[1;33m\u001b[0m\u001b[0m\n\u001b[0;32m      4\u001b[0m \u001b[0mprint\u001b[0m\u001b[1;33m(\u001b[0m\u001b[0mword\u001b[0m\u001b[1;33m[\u001b[0m\u001b[1;36m2\u001b[0m\u001b[1;33m]\u001b[0m\u001b[1;33m)\u001b[0m\u001b[1;33m\u001b[0m\u001b[0m\n\u001b[1;32m----> 5\u001b[1;33m \u001b[0mprint\u001b[0m\u001b[1;33m(\u001b[0m\u001b[0mword\u001b[0m\u001b[1;33m[\u001b[0m\u001b[1;36m3\u001b[0m\u001b[1;33m]\u001b[0m\u001b[1;33m)\u001b[0m\u001b[1;33m\u001b[0m\u001b[0m\n\u001b[0m",
      "\u001b[1;31mIndexError\u001b[0m: string index out of range"
     ]
    }
   ],
   "source": [
    "word = 'tin'\n",
    "print(word[0])\n",
    "print(word[1])\n",
    "print(word[2])\n",
    "\n",
    "print(word[3])"
   ]
  },
  {
   "cell_type": "code",
   "execution_count": 65,
   "metadata": {
    "collapsed": false
   },
   "outputs": [
    {
     "name": "stdout",
     "output_type": "stream",
     "text": [
      "P\n",
      "o\n",
      "p\n",
      "o\n",
      "c\n",
      "a\n",
      "t\n",
      "e\n",
      "p\n",
      "e\n",
      "t\n",
      "l\n",
      "1\n"
     ]
    }
   ],
   "source": [
    "word = 'Popocatepetl'\n",
    "for letter in word:\n",
    "    print(letter)\n",
    "print(1)"
   ]
  },
  {
   "cell_type": "code",
   "execution_count": 67,
   "metadata": {
    "collapsed": false
   },
   "outputs": [
    {
     "name": "stdout",
     "output_type": "stream",
     "text": [
      "There are 12 letters in Popocatepetl\n"
     ]
    }
   ],
   "source": [
    "length = 0\n",
    "for letter in word:\n",
    "    length = length + 1\n",
    "print('There are', length, 'letters in', word)"
   ]
  },
  {
   "cell_type": "code",
   "execution_count": 69,
   "metadata": {
    "collapsed": false
   },
   "outputs": [
    {
     "data": {
      "text/plain": [
       "12"
      ]
     },
     "execution_count": 69,
     "metadata": {},
     "output_type": "execute_result"
    }
   ],
   "source": [
    "len(word)   # length of a words"
   ]
  },
  {
   "cell_type": "code",
   "execution_count": 70,
   "metadata": {
    "collapsed": false
   },
   "outputs": [
    {
     "name": "stdout",
     "output_type": "stream",
     "text": [
      "a\n",
      "b\n",
      "c\n",
      "after the loop, letter is: c\n"
     ]
    }
   ],
   "source": [
    "letter = 'z'\n",
    "for letter in 'abc':\n",
    "    print(letter)\n",
    "print('after the loop, letter is:', letter)\n",
    "\n",
    "# 1. a    2. b    3. c    4. z"
   ]
  },
  {
   "cell_type": "code",
   "execution_count": 71,
   "metadata": {
    "collapsed": false
   },
   "outputs": [
    {
     "name": "stdout",
     "output_type": "stream",
     "text": [
      "Variable           Type           Data/Info\n",
      "-------------------------------------------\n",
      "avg_inflammation   ndarray        40: 40 elems, type `float64`, 320 bytes\n",
      "avg_plot           list           n=1\n",
      "axis1              AxesSubplot    Axes(0.0578125,0.175;0.261615x0.754167)\n",
      "axis2              AxesSubplot    Axes(0.386146,0.175;0.261615x0.754167)\n",
      "axis3              AxesSubplot    Axes(0.714479,0.175;0.261615x0.754167)\n",
      "data               ndarray        60x40: 2400 elems, type `float64`, 19200 bytes\n",
      "doublesmall        ndarray        3x4: 12 elems, type `float64`, 96 bytes\n",
      "fig                Figure         Figure(800x240)\n",
      "image              AxesImage      AxesImage(163.333,40;165.333x248)\n",
      "length             int            12\n",
      "letter             str            c\n",
      "matplotlib         module         <module 'matplotlib' from<...>/matplotlib/__init__.py'>\n",
      "max_inflammation   ndarray        40: 40 elems, type `float64`, 320 bytes\n",
      "min_inflammation   ndarray        40: 40 elems, type `float64`, 320 bytes\n",
      "numpy              module         <module 'numpy' from '/ho<...>kages/numpy/__init__.py'>\n",
      "small              ndarray        3x4: 12 elems, type `float64`, 96 bytes\n",
      "triplesmall        ndarray        3x4: 12 elems, type `float64`, 96 bytes\n",
      "weight_kg          int            100\n",
      "weight_lb          float          220.00000000000003\n",
      "word               str            Popocatepetl\n"
     ]
    }
   ],
   "source": [
    "whos"
   ]
  },
  {
   "cell_type": "code",
   "execution_count": 72,
   "metadata": {
    "collapsed": true
   },
   "outputs": [],
   "source": [
    "empty_list = []"
   ]
  },
  {
   "cell_type": "code",
   "execution_count": 74,
   "metadata": {
    "collapsed": false
   },
   "outputs": [
    {
     "name": "stdout",
     "output_type": "stream",
     "text": [
      "[]\n"
     ]
    }
   ],
   "source": [
    "print(empty_list)"
   ]
  },
  {
   "cell_type": "code",
   "execution_count": 75,
   "metadata": {
    "collapsed": false
   },
   "outputs": [
    {
     "name": "stdout",
     "output_type": "stream",
     "text": [
      "Odds are:  [1, 3, 5, 7]\n"
     ]
    }
   ],
   "source": [
    "odds = [1, 3, 5, 7]\n",
    "print('Odds are: ', odds)"
   ]
  },
  {
   "cell_type": "code",
   "execution_count": 76,
   "metadata": {
    "collapsed": false
   },
   "outputs": [
    {
     "name": "stdout",
     "output_type": "stream",
     "text": [
      "<class 'type'>\n"
     ]
    }
   ],
   "source": [
    "print(type(list))"
   ]
  },
  {
   "cell_type": "code",
   "execution_count": 77,
   "metadata": {
    "collapsed": false
   },
   "outputs": [
    {
     "name": "stdout",
     "output_type": "stream",
     "text": [
      "1\n"
     ]
    }
   ],
   "source": [
    "print(odds[0])"
   ]
  },
  {
   "cell_type": "code",
   "execution_count": 78,
   "metadata": {
    "collapsed": false
   },
   "outputs": [
    {
     "name": "stdout",
     "output_type": "stream",
     "text": [
      "7\n"
     ]
    }
   ],
   "source": [
    "print(odds[-1])"
   ]
  },
  {
   "cell_type": "code",
   "execution_count": 79,
   "metadata": {
    "collapsed": false
   },
   "outputs": [
    {
     "name": "stdout",
     "output_type": "stream",
     "text": [
      "1\n",
      "3\n",
      "5\n",
      "7\n"
     ]
    }
   ],
   "source": [
    "for number in odds:\n",
    "    print(number)"
   ]
  },
  {
   "cell_type": "code",
   "execution_count": 80,
   "metadata": {
    "collapsed": false
   },
   "outputs": [
    {
     "name": "stdout",
     "output_type": "stream",
     "text": [
      "['Curie', 'Franklin', 'Meitner']\n"
     ]
    }
   ],
   "source": [
    "names = ['Curie', 'Franklin', 'Meitner']\n",
    "print(names)"
   ]
  },
  {
   "cell_type": "code",
   "execution_count": 81,
   "metadata": {
    "collapsed": true
   },
   "outputs": [],
   "source": [
    "name = 'Hoper'"
   ]
  },
  {
   "cell_type": "code",
   "execution_count": 82,
   "metadata": {
    "collapsed": false
   },
   "outputs": [
    {
     "name": "stdout",
     "output_type": "stream",
     "text": [
      "['Curie', 'Franklin', 'Meitner', 'Hoper']\n"
     ]
    }
   ],
   "source": [
    "names.append(name)\n",
    "print(names)"
   ]
  },
  {
   "cell_type": "code",
   "execution_count": 83,
   "metadata": {
    "collapsed": false
   },
   "outputs": [
    {
     "name": "stdout",
     "output_type": "stream",
     "text": [
      "['Curie', 'Franklin', 'Meitner', 'Hopper']\n"
     ]
    }
   ],
   "source": [
    "names[-1] = 'Hopper'\n",
    "print(names)"
   ]
  },
  {
   "cell_type": "code",
   "execution_count": 84,
   "metadata": {
    "collapsed": true
   },
   "outputs": [],
   "source": [
    "name = 'hopper'"
   ]
  },
  {
   "cell_type": "code",
   "execution_count": 85,
   "metadata": {
    "collapsed": false
   },
   "outputs": [
    {
     "ename": "TypeError",
     "evalue": "'str' object does not support item assignment",
     "output_type": "error",
     "traceback": [
      "\u001b[1;31m---------------------------------------------------------------------------\u001b[0m",
      "\u001b[1;31mTypeError\u001b[0m                                 Traceback (most recent call last)",
      "\u001b[1;32m<ipython-input-85-3827cb19bdab>\u001b[0m in \u001b[0;36m<module>\u001b[1;34m()\u001b[0m\n\u001b[1;32m----> 1\u001b[1;33m \u001b[0mname\u001b[0m\u001b[1;33m[\u001b[0m\u001b[1;36m0\u001b[0m\u001b[1;33m]\u001b[0m \u001b[1;33m=\u001b[0m \u001b[1;34m'H'\u001b[0m\u001b[1;33m\u001b[0m\u001b[0m\n\u001b[0m",
      "\u001b[1;31mTypeError\u001b[0m: 'str' object does not support item assignment"
     ]
    }
   ],
   "source": [
    "name[0] = 'H'"
   ]
  },
  {
   "cell_type": "code",
   "execution_count": 86,
   "metadata": {
    "collapsed": false
   },
   "outputs": [
    {
     "name": "stdout",
     "output_type": "stream",
     "text": [
      "['Curie', 'Franklin', 'Meitner', 'Hopper']\n"
     ]
    }
   ],
   "source": [
    "print(names)"
   ]
  },
  {
   "cell_type": "code",
   "execution_count": 87,
   "metadata": {
    "collapsed": true
   },
   "outputs": [],
   "source": [
    "del names[0]"
   ]
  },
  {
   "cell_type": "code",
   "execution_count": 88,
   "metadata": {
    "collapsed": false
   },
   "outputs": [
    {
     "name": "stdout",
     "output_type": "stream",
     "text": [
      "['Franklin', 'Meitner', 'Hopper']\n"
     ]
    }
   ],
   "source": [
    "print(names)"
   ]
  },
  {
   "cell_type": "code",
   "execution_count": 89,
   "metadata": {
    "collapsed": true
   },
   "outputs": [],
   "source": [
    "last=names.pop()"
   ]
  },
  {
   "cell_type": "code",
   "execution_count": 90,
   "metadata": {
    "collapsed": false
   },
   "outputs": [
    {
     "name": "stdout",
     "output_type": "stream",
     "text": [
      "Hopper\n"
     ]
    }
   ],
   "source": [
    "print(last)"
   ]
  },
  {
   "cell_type": "code",
   "execution_count": 91,
   "metadata": {
    "collapsed": false
   },
   "outputs": [
    {
     "name": "stdout",
     "output_type": "stream",
     "text": [
      "['Franklin', 'Meitner']\n"
     ]
    }
   ],
   "source": [
    "print(names)"
   ]
  },
  {
   "cell_type": "code",
   "execution_count": 92,
   "metadata": {
    "collapsed": false
   },
   "outputs": [
    {
     "name": "stdout",
     "output_type": "stream",
     "text": [
      "['Meitner', 'Franklin']\n"
     ]
    }
   ],
   "source": [
    "names.reverse()\n",
    "print(names)"
   ]
  },
  {
   "cell_type": "code",
   "execution_count": 93,
   "metadata": {
    "collapsed": false
   },
   "outputs": [
    {
     "name": "stdout",
     "output_type": "stream",
     "text": [
      "Odds are: [1, 3, 5, 7, 2]\n",
      "Primes are: [1, 3, 5, 7, 2]\n"
     ]
    }
   ],
   "source": [
    "odds = [1, 3, 5, 7]\n",
    "primes = odds\n",
    "primes += [2]    # primes.append(2) or primes = primes + [2]\n",
    "\n",
    "print('Odds are:', odds)\n",
    "print('Primes are:', primes)"
   ]
  },
  {
   "cell_type": "code",
   "execution_count": 94,
   "metadata": {
    "collapsed": false
   },
   "outputs": [
    {
     "name": "stdout",
     "output_type": "stream",
     "text": [
      "Primes are: [1, 3, 5, 7, 2]\n",
      "Oddsa are: [1, 3, 5, 7]\n"
     ]
    }
   ],
   "source": [
    "odds = [1, 3, 5, 7]\n",
    "primes = list(odds)    # primes = odds[:]\n",
    "primes += [2]\n",
    "\n",
    "print('Primes are:', primes)\n",
    "print('Oddsa are:', odds)"
   ]
  },
  {
   "cell_type": "markdown",
   "metadata": {},
   "source": [
    "### Analysing data from multiple files"
   ]
  },
  {
   "cell_type": "code",
   "execution_count": 95,
   "metadata": {
    "collapsed": false
   },
   "outputs": [
    {
     "name": "stdout",
     "output_type": "stream",
     "text": [
      "inflammation-01.csv  inflammation-07.csv  Python Data Anlysis.ipynb\r\n",
      "inflammation-02.csv  inflammation-08.csv  small-01.csv\r\n",
      "inflammation-03.csv  inflammation-09.csv  small-02.csv\r\n",
      "inflammation-04.csv  inflammation-10.csv  small-03.csv\r\n",
      "inflammation-05.csv  inflammation-11.csv\r\n",
      "inflammation-06.csv  inflammation-12.csv\r\n"
     ]
    }
   ],
   "source": [
    "ls"
   ]
  },
  {
   "cell_type": "code",
   "execution_count": 96,
   "metadata": {
    "collapsed": true
   },
   "outputs": [],
   "source": [
    "import glob"
   ]
  },
  {
   "cell_type": "code",
   "execution_count": 97,
   "metadata": {
    "collapsed": false
   },
   "outputs": [
    {
     "data": {
      "text/plain": [
       "['inflammation-05.csv',\n",
       " 'inflammation-11.csv',\n",
       " 'inflammation-12.csv',\n",
       " 'inflammation-01.csv',\n",
       " 'inflammation-09.csv',\n",
       " 'inflammation-04.csv',\n",
       " 'inflammation-08.csv',\n",
       " 'inflammation-10.csv',\n",
       " 'inflammation-06.csv',\n",
       " 'inflammation-07.csv',\n",
       " 'inflammation-03.csv',\n",
       " 'inflammation-02.csv']"
      ]
     },
     "execution_count": 97,
     "metadata": {},
     "output_type": "execute_result"
    }
   ],
   "source": [
    "glob.glob('inflammation*.csv')"
   ]
  },
  {
   "cell_type": "code",
   "execution_count": 98,
   "metadata": {
    "collapsed": true
   },
   "outputs": [],
   "source": [
    "filenames = glob.glob('inflammation*.csv')"
   ]
  },
  {
   "cell_type": "code",
   "execution_count": 99,
   "metadata": {
    "collapsed": false
   },
   "outputs": [
    {
     "name": "stdout",
     "output_type": "stream",
     "text": [
      "['inflammation-05.csv', 'inflammation-11.csv', 'inflammation-12.csv', 'inflammation-01.csv', 'inflammation-09.csv', 'inflammation-04.csv', 'inflammation-08.csv', 'inflammation-10.csv', 'inflammation-06.csv', 'inflammation-07.csv', 'inflammation-03.csv', 'inflammation-02.csv']\n"
     ]
    }
   ],
   "source": [
    "print(filenames)"
   ]
  },
  {
   "cell_type": "code",
   "execution_count": 100,
   "metadata": {
    "collapsed": false
   },
   "outputs": [
    {
     "name": "stdout",
     "output_type": "stream",
     "text": [
      "['inflammation-05.csv', 'inflammation-11.csv', 'inflammation-12.csv']\n"
     ]
    }
   ],
   "source": [
    "filenames = filenames[:3]\n",
    "print(filenames)"
   ]
  },
  {
   "cell_type": "code",
   "execution_count": 101,
   "metadata": {
    "collapsed": false
   },
   "outputs": [
    {
     "name": "stdout",
     "output_type": "stream",
     "text": [
      "inflammation-05.csv\n",
      "inflammation-11.csv\n",
      "inflammation-12.csv\n"
     ]
    }
   ],
   "source": [
    "for file in filenames:\n",
    "    print(file)"
   ]
  },
  {
   "cell_type": "code",
   "execution_count": 105,
   "metadata": {
    "collapsed": false
   },
   "outputs": [
    {
     "data": {
      "image/png": "[encoded data removed]",
      "text/plain": [
       "<matplotlib.figure.Figure at 0x7f4ebf716128>"
      ]
     },
     "metadata": {},
     "output_type": "display_data"
    },
    {
     "data": {
      "image/png": "[encoded data removed]",
      "text/plain": [
       "<matplotlib.figure.Figure at 0x7f4ebf1b3cc0>"
      ]
     },
     "metadata": {},
     "output_type": "display_data"
    },
    {
     "data": {
      "image/png": "[encoded data removed]",
      "text/plain": [
       "<matplotlib.figure.Figure at 0x7f4ebf1bf940>"
      ]
     },
     "metadata": {},
     "output_type": "display_data"
    }
   ],
   "source": [
    "for file in filenames:\n",
    "    data = numpy.loadtxt(fname=file, delimiter=',')\n",
    "    fig = matplotlib.pyplot.figure(figsize=(10.0, 3.0))\n",
    "\n",
    "    axis1 = fig.add_subplot(1, 3, 1)\n",
    "    axis2 = fig.add_subplot(1, 3, 2)\n",
    "    axis3 = fig.add_subplot(1, 3, 3)\n",
    "\n",
    "    axis1.plot(data.mean(axis=0))\n",
    "    axis1.set_ylabel('Average')\n",
    "\n",
    "    axis2.plot(data.max(axis=0))\n",
    "    axis2.set_ylabel('Maximum')\n",
    "    axis2.set_xlabel('Day')\n",
    "    axis2.set_title(file)   # new!\n",
    "\n",
    "    axis3.plot(data.min(axis=0))\n",
    "    axis3.set_ylabel('Minimum')\n",
    "\n",
    "    fig.tight_layout()"
   ]
  },
  {
   "cell_type": "markdown",
   "metadata": {},
   "source": [
    "### if-then in Python"
   ]
  },
  {
   "cell_type": "code",
   "execution_count": 110,
   "metadata": {
    "collapsed": true
   },
   "outputs": [],
   "source": [
    "num = 5"
   ]
  },
  {
   "cell_type": "code",
   "execution_count": 111,
   "metadata": {
    "collapsed": false
   },
   "outputs": [
    {
     "name": "stdout",
     "output_type": "stream",
     "text": [
      "5 is greater than 2\n"
     ]
    }
   ],
   "source": [
    "if num > 2:\n",
    "    print(num, 'is greater than 2')"
   ]
  },
  {
   "cell_type": "code",
   "execution_count": 114,
   "metadata": {
    "collapsed": false
   },
   "outputs": [
    {
     "name": "stdout",
     "output_type": "stream",
     "text": [
      "1 is not greater than 2\n"
     ]
    }
   ],
   "source": [
    "num = 1\n",
    "if num > 2:\n",
    "    print(num, 'is greater than 2')\n",
    "else:\n",
    "    print(num, 'is not greater than 2')"
   ]
  },
  {
   "cell_type": "code",
   "execution_count": 116,
   "metadata": {
    "collapsed": false
   },
   "outputs": [
    {
     "name": "stdout",
     "output_type": "stream",
     "text": [
      "The number is positive\n"
     ]
    }
   ],
   "source": [
    "num = 1\n",
    "if num > 0:\n",
    "    print('The number is positive')\n",
    "elif num == 0:\n",
    "    print('The number is zero')\n",
    "else:\n",
    "    print('The number is negative')"
   ]
  },
  {
   "cell_type": "code",
   "execution_count": 119,
   "metadata": {
    "collapsed": false
   },
   "outputs": [
    {
     "name": "stdout",
     "output_type": "stream",
     "text": [
      "Both parts are true\n"
     ]
    }
   ],
   "source": [
    "if (1>0) and (-1>0):\n",
    "    print('Both parts are true')\n",
    "else:\n",
    "    print('at least one is false')"
   ]
  },
  {
   "cell_type": "code",
   "execution_count": 118,
   "metadata": {
    "collapsed": false
   },
   "outputs": [
    {
     "name": "stdout",
     "output_type": "stream",
     "text": [
      "True\n"
     ]
    }
   ],
   "source": [
    "print(1>0)"
   ]
  },
  {
   "cell_type": "code",
   "execution_count": 121,
   "metadata": {
    "collapsed": false
   },
   "outputs": [
    {
     "name": "stdout",
     "output_type": "stream",
     "text": [
      "Suspicious looking maxima!\n"
     ]
    }
   ],
   "source": [
    "data = numpy.loadtxt(fname='inflammation-12.csv', delimiter=',')\n",
    "\n",
    "if data.max(axis=0)[0]==0 and data.max(axis=0)[20]==20:\n",
    "    print('Suspicious looking maxima!')"
   ]
  },
  {
   "cell_type": "code",
   "execution_count": 122,
   "metadata": {
    "collapsed": false
   },
   "outputs": [
    {
     "name": "stdout",
     "output_type": "stream",
     "text": [
      "Suspicious looking minima!\n"
     ]
    }
   ],
   "source": [
    "data = numpy.loadtxt(fname='inflammation-11.csv', delimiter=',')\n",
    "\n",
    "if data.min(axis=0).sum()==0:\n",
    "    print('Suspicious looking minima!')"
   ]
  },
  {
   "cell_type": "code",
   "execution_count": 123,
   "metadata": {
    "collapsed": false
   },
   "outputs": [
    {
     "name": "stdout",
     "output_type": "stream",
     "text": [
      "Suspicious looking minima!\n"
     ]
    }
   ],
   "source": [
    "if data.max(axis=0)[0] == 0 and data.max(axis=0)[20]== 20:\n",
    "    print('Suspicious looking maxima!')\n",
    "elif data.min(axis=0).sum()==0:\n",
    "    print('Suspicious looking minima!')\n",
    "else:\n",
    "    print('Seems Ok!')"
   ]
  },
  {
   "cell_type": "code",
   "execution_count": 124,
   "metadata": {
    "collapsed": false
   },
   "outputs": [
    {
     "name": "stdout",
     "output_type": "stream",
     "text": [
      "inflammation-05.csv\n",
      "Suspicious looking maxima!\n",
      "inflammation-11.csv\n",
      "Suspicious looking minima!\n",
      "inflammation-12.csv\n",
      "Suspicious looking maxima!\n",
      "inflammation-01.csv\n",
      "Suspicious looking maxima!\n",
      "inflammation-09.csv\n",
      "Suspicious looking maxima!\n",
      "inflammation-04.csv\n",
      "Suspicious looking maxima!\n",
      "inflammation-08.csv\n",
      "Suspicious looking minima!\n",
      "inflammation-10.csv\n",
      "Suspicious looking maxima!\n",
      "inflammation-06.csv\n",
      "Suspicious looking maxima!\n",
      "inflammation-07.csv\n",
      "Suspicious looking maxima!\n",
      "inflammation-03.csv\n",
      "Suspicious looking minima!\n",
      "inflammation-02.csv\n",
      "Suspicious looking maxima!\n"
     ]
    }
   ],
   "source": [
    "import glob\n",
    "\n",
    "filenames = glob.glob('inflammation*.csv')\n",
    "\n",
    "for file in filenames:\n",
    "    print(file)\n",
    "    data = numpy.loadtxt(fname=file, delimiter=',')\n",
    "    \n",
    "    if data.max(axis=0)[0] == 0 and data.max(axis=0)[20]== 20:\n",
    "        print('Suspicious looking maxima!')\n",
    "    elif data.min(axis=0).sum()==0:\n",
    "        print('Suspicious looking minima!')\n",
    "    else:\n",
    "        print('Seems Ok!')"
   ]
  },
  {
   "cell_type": "markdown",
   "metadata": {},
   "source": [
    "### Functions"
   ]
  },
  {
   "cell_type": "code",
   "execution_count": 125,
   "metadata": {
    "collapsed": true
   },
   "outputs": [],
   "source": [
    "def fahr_to_kelvin(temp):\n",
    "    return ((temp-32)*(5/9)) + 273.15"
   ]
  },
  {
   "cell_type": "code",
   "execution_count": 126,
   "metadata": {
    "collapsed": false
   },
   "outputs": [
    {
     "name": "stdout",
     "output_type": "stream",
     "text": [
      "Freezing point of water: 273.15\n"
     ]
    }
   ],
   "source": [
    "print('Freezing point of water:', fahr_to_kelvin(32))"
   ]
  },
  {
   "cell_type": "code",
   "execution_count": 127,
   "metadata": {
    "collapsed": false
   },
   "outputs": [
    {
     "name": "stdout",
     "output_type": "stream",
     "text": [
      "Boiling point of water: 373.15\n"
     ]
    }
   ],
   "source": [
    "print('Boiling point of water:', fahr_to_kelvin(212))"
   ]
  },
  {
   "cell_type": "code",
   "execution_count": 128,
   "metadata": {
    "collapsed": true
   },
   "outputs": [],
   "source": [
    "def kelvin_to_celsius(temp_k):\n",
    "    return temp_k-273.15"
   ]
  },
  {
   "cell_type": "code",
   "execution_count": 129,
   "metadata": {
    "collapsed": false
   },
   "outputs": [
    {
     "name": "stdout",
     "output_type": "stream",
     "text": [
      "Absolute zero in Celsius -273.15\n"
     ]
    }
   ],
   "source": [
    "print('Absolute zero in Celsius', kelvin_to_celsius(0))"
   ]
  },
  {
   "cell_type": "code",
   "execution_count": 130,
   "metadata": {
    "collapsed": true
   },
   "outputs": [],
   "source": [
    "def fahr_to_celsius(temp):\n",
    "    temp_k = fahr_to_kelvin(temp)\n",
    "    temp_c = kelvin_to_celsius(temp_k)\n",
    "    \n",
    "    return temp_c"
   ]
  },
  {
   "cell_type": "code",
   "execution_count": 131,
   "metadata": {
    "collapsed": false
   },
   "outputs": [
    {
     "name": "stdout",
     "output_type": "stream",
     "text": [
      "Freezing point in Celsius: 0.0\n"
     ]
    }
   ],
   "source": [
    "print('Freezing point in Celsius:', fahr_to_celsius(32))"
   ]
  },
  {
   "cell_type": "markdown",
   "metadata": {},
   "source": [
    "### Putting everything together"
   ]
  },
  {
   "cell_type": "code",
   "execution_count": 134,
   "metadata": {
    "collapsed": true
   },
   "outputs": [],
   "source": [
    "def detect_problems(filename):\n",
    "    data = numpy.loadtxt(fname=filename, delimiter=',')\n",
    "    \n",
    "    if data.max(axis=0)[0] == 0 and data.max(axis=0)[20]== 20:\n",
    "        print('Suspicious looking maxima!')\n",
    "    elif data.min(axis=0).sum()==0:\n",
    "        print('Suspicious looking minima!')\n",
    "    else:\n",
    "        print('Seems Ok!')"
   ]
  },
  {
   "cell_type": "code",
   "execution_count": 135,
   "metadata": {
    "collapsed": false
   },
   "outputs": [
    {
     "name": "stdout",
     "output_type": "stream",
     "text": [
      "Suspicious looking maxima!\n"
     ]
    }
   ],
   "source": [
    "detect_problems('inflammation-01.csv')"
   ]
  },
  {
   "cell_type": "code",
   "execution_count": 138,
   "metadata": {
    "collapsed": true
   },
   "outputs": [],
   "source": [
    "def analyze(filename):    \n",
    "    data = numpy.loadtxt(fname=filename, delimiter=',')\n",
    "    fig = matplotlib.pyplot.figure(figsize=(10.0, 3.0))\n",
    "\n",
    "    axis1 = fig.add_subplot(1, 3, 1)\n",
    "    axis2 = fig.add_subplot(1, 3, 2)\n",
    "    axis3 = fig.add_subplot(1, 3, 3)\n",
    "\n",
    "    axis1.plot(data.mean(axis=0))\n",
    "    axis1.set_ylabel('Average')\n",
    "\n",
    "    axis2.plot(data.max(axis=0))\n",
    "    axis2.set_ylabel('Maximum')\n",
    "    axis2.set_xlabel('Day')\n",
    "    axis2.set_title(filename)   # new!\n",
    "\n",
    "    axis3.plot(data.min(axis=0))\n",
    "    axis3.set_ylabel('Minimum')\n",
    "\n",
    "    fig.tight_layout() "
   ]
  },
  {
   "cell_type": "code",
   "execution_count": 139,
   "metadata": {
    "collapsed": false
   },
   "outputs": [
    {
     "data": {
      "image/png": "[encoded data removed]",
      "text/plain": [
       "<matplotlib.figure.Figure at 0x7f4ebf8d9c50>"
      ]
     },
     "metadata": {},
     "output_type": "display_data"
    }
   ],
   "source": [
    "analyze('inflammation-01.csv')"
   ]
  },
  {
   "cell_type": "code",
   "execution_count": 140,
   "metadata": {
    "collapsed": false
   },
   "outputs": [
    {
     "name": "stdout",
     "output_type": "stream",
     "text": [
      "['inflammation-05.csv', 'inflammation-11.csv', 'inflammation-12.csv', 'inflammation-01.csv', 'inflammation-09.csv', 'inflammation-04.csv', 'inflammation-08.csv', 'inflammation-10.csv', 'inflammation-06.csv', 'inflammation-07.csv', 'inflammation-03.csv', 'inflammation-02.csv']\n"
     ]
    }
   ],
   "source": [
    "filenames = glob.glob('inflammation*.csv')\n",
    "print(filenames)"
   ]
  },
  {
   "cell_type": "code",
   "execution_count": 141,
   "metadata": {
    "collapsed": false
   },
   "outputs": [
    {
     "name": "stdout",
     "output_type": "stream",
     "text": [
      "inflammation-05.csv\n",
      "Suspicious looking maxima!\n",
      "inflammation-11.csv\n",
      "Suspicious looking minima!\n",
      "inflammation-12.csv\n",
      "Suspicious looking maxima!\n",
      "inflammation-01.csv\n",
      "Suspicious looking maxima!\n"
     ]
    },
    {
     "data": {
      "image/png": "[encoded data removed]",
      "text/plain": [
       "<matplotlib.figure.Figure at 0x7f4ebf556780>"
      ]
     },
     "metadata": {},
     "output_type": "display_data"
    },
    {
     "data": {
      "image/png": "[encoded data removed]",
      "text/plain": [
       "<matplotlib.figure.Figure at 0x7f4ebf637a90>"
      ]
     },
     "metadata": {},
     "output_type": "display_data"
    },
    {
     "data": {
      "image/png": "[encoded data removed]",
      "text/plain": [
       "<matplotlib.figure.Figure at 0x7f4ebf986f28>"
      ]
     },
     "metadata": {},
     "output_type": "display_data"
    },
    {
     "data": {
      "image/png": "[encoded data removed]",
      "text/plain": [
       "<matplotlib.figure.Figure at 0x7f4ebf145dd8>"
      ]
     },
     "metadata": {},
     "output_type": "display_data"
    }
   ],
   "source": [
    "filenames = filenames[:4]\n",
    "\n",
    "for file in filenames:\n",
    "    print(file)\n",
    "    analyze(file)\n",
    "    detect_problems(file)"
   ]
  },
  {
   "cell_type": "code",
   "execution_count": 142,
   "metadata": {
    "collapsed": true
   },
   "outputs": [],
   "source": [
    "def center(data, desired):\n",
    "    return (data-data.mean()) + desired"
   ]
  },
  {
   "cell_type": "code",
   "execution_count": 143,
   "metadata": {
    "collapsed": false
   },
   "outputs": [
    {
     "name": "stdout",
     "output_type": "stream",
     "text": [
      "[[ 0.  0.]\n",
      " [ 0.  0.]]\n"
     ]
    }
   ],
   "source": [
    "z = numpy.zeros((2, 2))\n",
    "print(z)"
   ]
  },
  {
   "cell_type": "code",
   "execution_count": 144,
   "metadata": {
    "collapsed": false
   },
   "outputs": [
    {
     "name": "stdout",
     "output_type": "stream",
     "text": [
      "[[ 3.  3.]\n",
      " [ 3.  3.]]\n"
     ]
    }
   ],
   "source": [
    "print(center(z, 3))"
   ]
  },
  {
   "cell_type": "code",
   "execution_count": 145,
   "metadata": {
    "collapsed": false
   },
   "outputs": [
    {
     "name": "stdout",
     "output_type": "stream",
     "text": [
      "[[-6.14875 -6.14875 -5.14875 ..., -3.14875 -6.14875 -6.14875]\n",
      " [-6.14875 -5.14875 -4.14875 ..., -5.14875 -6.14875 -5.14875]\n",
      " [-6.14875 -5.14875 -5.14875 ..., -4.14875 -5.14875 -5.14875]\n",
      " ..., \n",
      " [-6.14875 -5.14875 -5.14875 ..., -5.14875 -5.14875 -5.14875]\n",
      " [-6.14875 -6.14875 -6.14875 ..., -6.14875 -4.14875 -6.14875]\n",
      " [-6.14875 -6.14875 -5.14875 ..., -5.14875 -5.14875 -6.14875]]\n"
     ]
    }
   ],
   "source": [
    "data = numpy.loadtxt(fname='inflammation-01.csv', delimiter=',')\n",
    "print(center(data, 0))"
   ]
  },
  {
   "cell_type": "code",
   "execution_count": 147,
   "metadata": {
    "collapsed": false
   },
   "outputs": [
    {
     "name": "stdout",
     "output_type": "stream",
     "text": [
      "Original mean, max and min: 6.14875 20.0 0.0\n"
     ]
    }
   ],
   "source": [
    "print('Original mean, max and min:', data.mean(), data.max(), data.min())"
   ]
  },
  {
   "cell_type": "code",
   "execution_count": 148,
   "metadata": {
    "collapsed": true
   },
   "outputs": [],
   "source": [
    "center = center(data, 0)"
   ]
  },
  {
   "cell_type": "code",
   "execution_count": 149,
   "metadata": {
    "collapsed": false
   },
   "outputs": [
    {
     "name": "stdout",
     "output_type": "stream",
     "text": [
      "Standard deviation before and after: 4.61383319712 4.61383319712\n"
     ]
    }
   ],
   "source": [
    "print('Standard deviation before and after:', data.std(), center.std())"
   ]
  },
  {
   "cell_type": "code",
   "execution_count": 150,
   "metadata": {
    "collapsed": true
   },
   "outputs": [],
   "source": [
    "# center(data, desired): returns a new array containing the original data\n",
    "# centered around the desired value\n",
    "def center(data, desired):\n",
    "    return (data-data.mean()) + desired"
   ]
  },
  {
   "cell_type": "code",
   "execution_count": 153,
   "metadata": {
    "collapsed": true
   },
   "outputs": [],
   "source": [
    "def center(data, desired):\n",
    "    '''\n",
    "    Returns a new array containing the original data centered around the desired value .\n",
    "    Example: center([1, 2, 3], 0) => [-1, 0, 1]\n",
    "    '''\n",
    "    return (data-data.mean()) + desired"
   ]
  },
  {
   "cell_type": "code",
   "execution_count": 154,
   "metadata": {
    "collapsed": false
   },
   "outputs": [
    {
     "name": "stdout",
     "output_type": "stream",
     "text": [
      "Help on function center in module __main__:\n",
      "\n",
      "center(data, desired)\n",
      "    Returns a new array containing the original data centered around the desired value .\n",
      "    Example: center([1, 2, 3], 0) => [-1, 0, 1]\n",
      "\n"
     ]
    }
   ],
   "source": [
    "help(center)"
   ]
  },
  {
   "cell_type": "code",
   "execution_count": 156,
   "metadata": {
    "collapsed": false
   },
   "outputs": [
    {
     "ename": "TypeError",
     "evalue": "data type \",\" not understood",
     "output_type": "error",
     "traceback": [
      "\u001b[1;31m---------------------------------------------------------------------------\u001b[0m",
      "\u001b[1;31mTypeError\u001b[0m                                 Traceback (most recent call last)",
      "\u001b[1;32m<ipython-input-156-e3bc6cf4fd6a>\u001b[0m in \u001b[0;36m<module>\u001b[1;34m()\u001b[0m\n\u001b[1;32m----> 1\u001b[1;33m \u001b[0mnumpy\u001b[0m\u001b[1;33m.\u001b[0m\u001b[0mloadtxt\u001b[0m\u001b[1;33m(\u001b[0m\u001b[1;34m'inflammation-01.csv'\u001b[0m\u001b[1;33m,\u001b[0m \u001b[1;34m','\u001b[0m\u001b[1;33m)\u001b[0m\u001b[1;33m\u001b[0m\u001b[0m\n\u001b[0m",
      "\u001b[1;32m/home/ivana/.virtualenvs/py3/lib/python3.4/site-packages/numpy/lib/npyio.py\u001b[0m in \u001b[0;36mloadtxt\u001b[1;34m(fname, dtype, comments, delimiter, converters, skiprows, usecols, unpack, ndmin)\u001b[0m\n\u001b[0;32m    871\u001b[0m     \u001b[1;32mtry\u001b[0m\u001b[1;33m:\u001b[0m\u001b[1;33m\u001b[0m\u001b[0m\n\u001b[0;32m    872\u001b[0m         \u001b[1;31m# Make sure we're dealing with a proper dtype\u001b[0m\u001b[1;33m\u001b[0m\u001b[1;33m\u001b[0m\u001b[0m\n\u001b[1;32m--> 873\u001b[1;33m         \u001b[0mdtype\u001b[0m \u001b[1;33m=\u001b[0m \u001b[0mnp\u001b[0m\u001b[1;33m.\u001b[0m\u001b[0mdtype\u001b[0m\u001b[1;33m(\u001b[0m\u001b[0mdtype\u001b[0m\u001b[1;33m)\u001b[0m\u001b[1;33m\u001b[0m\u001b[0m\n\u001b[0m\u001b[0;32m    874\u001b[0m         \u001b[0mdefconv\u001b[0m \u001b[1;33m=\u001b[0m \u001b[0m_getconv\u001b[0m\u001b[1;33m(\u001b[0m\u001b[0mdtype\u001b[0m\u001b[1;33m)\u001b[0m\u001b[1;33m\u001b[0m\u001b[0m\n\u001b[0;32m    875\u001b[0m \u001b[1;33m\u001b[0m\u001b[0m\n",
      "\u001b[1;31mTypeError\u001b[0m: data type \",\" not understood"
     ]
    }
   ],
   "source": [
    "numpy.loadtxt('inflammation-01.csv', ',')"
   ]
  },
  {
   "cell_type": "code",
   "execution_count": 157,
   "metadata": {
    "collapsed": true
   },
   "outputs": [],
   "source": [
    "def center(data, desired=0.0):\n",
    "    '''\n",
    "    Returns a new array containing the original data centered around the desired value .\n",
    "    Example: center([1, 2, 3], 0) => [-1, 0, 1]\n",
    "    '''\n",
    "    return (data-data.mean()) + desired"
   ]
  },
  {
   "cell_type": "code",
   "execution_count": 158,
   "metadata": {
    "collapsed": false
   },
   "outputs": [
    {
     "name": "stdout",
     "output_type": "stream",
     "text": [
      "[[ 3.  3.]\n",
      " [ 3.  3.]]\n"
     ]
    }
   ],
   "source": [
    "test_data = numpy.zeros((2,2))\n",
    "print(center(test_data, 3))"
   ]
  },
  {
   "cell_type": "code",
   "execution_count": 159,
   "metadata": {
    "collapsed": false
   },
   "outputs": [
    {
     "name": "stdout",
     "output_type": "stream",
     "text": [
      "[[ 0.  0.]\n",
      " [ 0.  0.]]\n"
     ]
    }
   ],
   "source": [
    "print(center(test_data))"
   ]
  },
  {
   "cell_type": "code",
   "execution_count": 160,
   "metadata": {
    "collapsed": true
   },
   "outputs": [],
   "source": [
    "def display(a=1, b=2, c=3, d=4):\n",
    "    print('a:', a, 'b:', b, 'c:', c, 'd:', d)"
   ]
  },
  {
   "cell_type": "code",
   "execution_count": 161,
   "metadata": {
    "collapsed": false
   },
   "outputs": [
    {
     "name": "stdout",
     "output_type": "stream",
     "text": [
      "No parameters\n",
      "a: 1 b: 2 c: 3 d: 4\n"
     ]
    }
   ],
   "source": [
    "print('No parameters')\n",
    "display()"
   ]
  },
  {
   "cell_type": "code",
   "execution_count": 163,
   "metadata": {
    "collapsed": false
   },
   "outputs": [
    {
     "name": "stdout",
     "output_type": "stream",
     "text": [
      "One parameter:\n",
      "a: 55 b: 2 c: 3 d: 4\n"
     ]
    }
   ],
   "source": [
    "print('One parameter:')\n",
    "display(55)"
   ]
  },
  {
   "cell_type": "code",
   "execution_count": 164,
   "metadata": {
    "collapsed": false
   },
   "outputs": [
    {
     "name": "stdout",
     "output_type": "stream",
     "text": [
      "a: 55 b: 66 c: 3 d: 4\n"
     ]
    }
   ],
   "source": [
    "display(55, 66)"
   ]
  },
  {
   "cell_type": "code",
   "execution_count": 165,
   "metadata": {
    "collapsed": false
   },
   "outputs": [
    {
     "name": "stdout",
     "output_type": "stream",
     "text": [
      "a: 1 b: 2 c: 55 d: 4\n"
     ]
    }
   ],
   "source": [
    "display(c=55)"
   ]
  },
  {
   "cell_type": "code",
   "execution_count": 166,
   "metadata": {
    "collapsed": false
   },
   "outputs": [
    {
     "name": "stdout",
     "output_type": "stream",
     "text": [
      "Help on function loadtxt in module numpy.lib.npyio:\n",
      "\n",
      "loadtxt(fname, dtype=<class 'float'>, comments='#', delimiter=None, converters=None, skiprows=0, usecols=None, unpack=False, ndmin=0)\n",
      "    Load data from a text file.\n",
      "    \n",
      "    Each row in the text file must have the same number of values.\n",
      "    \n",
      "    Parameters\n",
      "    ----------\n",
      "    fname : file or str\n",
      "        File, filename, or generator to read.  If the filename extension is\n",
      "        ``.gz`` or ``.bz2``, the file is first decompressed. Note that\n",
      "        generators should return byte strings for Python 3k.\n",
      "    dtype : data-type, optional\n",
      "        Data-type of the resulting array; default: float.  If this is a\n",
      "        structured data-type, the resulting array will be 1-dimensional, and\n",
      "        each row will be interpreted as an element of the array.  In this\n",
      "        case, the number of columns used must match the number of fields in\n",
      "        the data-type.\n",
      "    comments : str or sequence, optional\n",
      "        The characters or list of characters used to indicate the start of a\n",
      "        comment;\n",
      "        default: '#'.\n",
      "    delimiter : str, optional\n",
      "        The string used to separate values.  By default, this is any\n",
      "        whitespace.\n",
      "    converters : dict, optional\n",
      "        A dictionary mapping column number to a function that will convert\n",
      "        that column to a float.  E.g., if column 0 is a date string:\n",
      "        ``converters = {0: datestr2num}``.  Converters can also be used to\n",
      "        provide a default value for missing data (but see also `genfromtxt`):\n",
      "        ``converters = {3: lambda s: float(s.strip() or 0)}``.  Default: None.\n",
      "    skiprows : int, optional\n",
      "        Skip the first `skiprows` lines; default: 0.\n",
      "    usecols : sequence, optional\n",
      "        Which columns to read, with 0 being the first.  For example,\n",
      "        ``usecols = (1,4,5)`` will extract the 2nd, 5th and 6th columns.\n",
      "        The default, None, results in all columns being read.\n",
      "    unpack : bool, optional\n",
      "        If True, the returned array is transposed, so that arguments may be\n",
      "        unpacked using ``x, y, z = loadtxt(...)``.  When used with a structured\n",
      "        data-type, arrays are returned for each field.  Default is False.\n",
      "    ndmin : int, optional\n",
      "        The returned array will have at least `ndmin` dimensions.\n",
      "        Otherwise mono-dimensional axes will be squeezed.\n",
      "        Legal values: 0 (default), 1 or 2.\n",
      "    \n",
      "        .. versionadded:: 1.6.0\n",
      "    \n",
      "    Returns\n",
      "    -------\n",
      "    out : ndarray\n",
      "        Data read from the text file.\n",
      "    \n",
      "    See Also\n",
      "    --------\n",
      "    load, fromstring, fromregex\n",
      "    genfromtxt : Load data with missing values handled as specified.\n",
      "    scipy.io.loadmat : reads MATLAB data files\n",
      "    \n",
      "    Notes\n",
      "    -----\n",
      "    This function aims to be a fast reader for simply formatted files.  The\n",
      "    `genfromtxt` function provides more sophisticated handling of, e.g.,\n",
      "    lines with missing values.\n",
      "    \n",
      "    .. versionadded:: 1.10.0\n",
      "    \n",
      "    The strings produced by the Python float.hex method can be used as\n",
      "    input for floats.\n",
      "    \n",
      "    Examples\n",
      "    --------\n",
      "    >>> from io import StringIO   # StringIO behaves like a file object\n",
      "    >>> c = StringIO(\"0 1\\n2 3\")\n",
      "    >>> np.loadtxt(c)\n",
      "    array([[ 0.,  1.],\n",
      "           [ 2.,  3.]])\n",
      "    \n",
      "    >>> d = StringIO(\"M 21 72\\nF 35 58\")\n",
      "    >>> np.loadtxt(d, dtype={'names': ('gender', 'age', 'weight'),\n",
      "    ...                      'formats': ('S1', 'i4', 'f4')})\n",
      "    array([('M', 21, 72.0), ('F', 35, 58.0)],\n",
      "          dtype=[('gender', '|S1'), ('age', '<i4'), ('weight', '<f4')])\n",
      "    \n",
      "    >>> c = StringIO(\"1,0,2\\n3,0,4\")\n",
      "    >>> x, y = np.loadtxt(c, delimiter=',', usecols=(0, 2), unpack=True)\n",
      "    >>> x\n",
      "    array([ 1.,  3.])\n",
      "    >>> y\n",
      "    array([ 2.,  4.])\n",
      "\n"
     ]
    }
   ],
   "source": [
    "help(numpy.loadtxt)"
   ]
  },
  {
   "cell_type": "code",
   "execution_count": null,
   "metadata": {
    "collapsed": true
   },
   "outputs": [],
   "source": []
  }
 ],
 "metadata": {
  "kernelspec": {
   "display_name": "Python 3",
   "language": "python",
   "name": "python3"
  },
  "language_info": {
   "codemirror_mode": {
    "name": "ipython",
    "version": 3
   },
   "file_extension": ".py",
   "mimetype": "text/x-python",
   "name": "python",
   "nbconvert_exporter": "python",
   "pygments_lexer": "ipython3",
   "version": "3.4.2"
  }
 },
 "nbformat": 4,
 "nbformat_minor": 0
}
